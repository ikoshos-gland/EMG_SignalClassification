{
 "cells": [
  {
   "cell_type": "markdown",
   "metadata": {},
   "source": [
    "# EMG Signal Classification\n",
    "Authors: Karla Avilés & George Gaibor"
   ]
  },
  {
   "cell_type": "markdown",
   "metadata": {},
   "source": [
    "In this notebook, you are going to find two feature extraction techniques: </br>\n",
    "- Custom fetaures: set of statistical features. </br>\n",
    "- Rms fetaures: rms value calculated by windows. </br>"
   ]
  },
  {
   "cell_type": "code",
   "execution_count": null,
   "metadata": {},
   "outputs": [],
   "source": [
    "import pandas as pd\n",
    "import numpy as np\n",
    "import os\n",
    "import re\n",
    "import matplotlib.pyplot as plt\n",
    "import glob"
   ]
  },
  {
   "cell_type": "code",
   "execution_count": null,
   "metadata": {},
   "outputs": [],
   "source": [
    "# Define path were emg data is stored into folders belonging to each class (Task1, Task2, ...)\n",
    "MAIN_PATH = \"../Data/RmsNorm_Reg/two_sec\"\n",
    "# Define path to save generated features\n",
    "FEATURES_PATH = \"../Features\""
   ]
  },
  {
   "cell_type": "code",
   "execution_count": null,
   "metadata": {},
   "outputs": [],
   "source": [
    "# List containing the name of each folder representing each class\n",
    "MOTOR_TASKS = [\"Task1\", \"Task2\", \"Task3\", \"Task4\", \"Task5\"]\n",
    "MOTOR_TASKS_DIC = {label.split('.')[0]:num+1 for num, label in enumerate(MOTOR_TASKS)}\n",
    "\n",
    "# Define type of features: MeanAbsoluteValue, MeanAbsWeightI, MeanAbsWeightII, MedianAbsValue, Variance, StdDeviation.\n",
    "# In case you want to add a feature, you should generate your own function and add the case on the function: get_custom_features()\n",
    "FEATURES_LIST = [\"MeanAbsoluteValue\", \"MeanAbsWeightI\", \"MeanAbsWeightII\", \"MedianAbsValue\", \"Variance\", \"StdDeviation\"]\n",
    "\n",
    "# Define emg sensors used in experiment\n",
    "EMG_SENSORS = [\"MW1\", \"MW2\", \"MW3\"]\n"
   ]
  },
  {
   "cell_type": "markdown",
   "metadata": {},
   "source": [
    "## Custom Features"
   ]
  },
  {
   "cell_type": "code",
   "execution_count": null,
   "metadata": {},
   "outputs": [],
   "source": [
    "def mean_abs_value(data: pd.Series) -> float:\n",
    "  \"\"\"\n",
    "  Calculate the mean absolute value of a\n",
    "  group of data.\n",
    "  Params:\n",
    "    data (pd.Series): contains data\n",
    "  Returns:\n",
    "    mean_abs_val (float): mean absolute value\n",
    "  \"\"\"\n",
    "  mean_abs_val = abs((data)).mean()\n",
    "  return mean_abs_val\n",
    "\n",
    "def mean_abs_weightI(data: pd.Series) -> float:\n",
    "  \"\"\"\n",
    "  Calculate the mean absolute value of a group of\n",
    "  data with a given weight. Centered data (between \n",
    "  0.25 and 0.75 of the window) receives a weight of\n",
    "  1, otherwise weight is 0.5.\n",
    "  Params:\n",
    "    data (pd.Series): contains data\n",
    "  Returns:\n",
    "    mean_abs_w_val (float): mean absolute weighted value\n",
    "  \"\"\"\n",
    "  values_list = []\n",
    "  for row in range(len(data)):\n",
    "    row += 1\n",
    "    if row <= 0.75*len(data) and row >= 0.25*len(data):\n",
    "      w = 1\n",
    "    else:\n",
    "      w = 0.5\n",
    "    values_list.append(abs(data.iloc[row-1])*w)\n",
    "  mean_abs_w_val = np.mean(values_list)\n",
    "  return mean_abs_w_val\n",
    "\n",
    "def mean_abs_weightII(data: pd.Series) -> float:\n",
    "  \"\"\"\n",
    "  Calculate the mean absolute value of a group of\n",
    "  data with a given weight. Centered data (between \n",
    "  0.25 and 0.75 of the window) receives a weight of\n",
    "  1, otherwise weight is four times the value window\n",
    "  position.\n",
    "  Params:\n",
    "    data (pd.Series): contains data\n",
    "  Returns:\n",
    "    mean_abs_w_val (float): mean absolute weighted value\n",
    "  \"\"\"\n",
    "  values_list = []\n",
    "  for row in range(len(data)):\n",
    "    row += 1\n",
    "    if row <= 0.75*len(data) and row >= 0.25*len(data):\n",
    "      w = 1\n",
    "    elif row < 0.25*len(data) :\n",
    "      w = 4*row/len(data)\n",
    "    else:\n",
    "      w = 4*(len(data)-row)/len(data)\n",
    "    values_list.append(abs(data.iloc[row-1])*w)\n",
    "    mean_abs_w_val = np.mean(values_list)\n",
    "  return mean_abs_w_val\n",
    "\n",
    "def median_abs_value(data: pd.Series) -> float:\n",
    "  \"\"\"\n",
    "  Calculate the median absolute value of a\n",
    "  group of data.\n",
    "  Params:\n",
    "    data (pd.Series): contains data\n",
    "  Returns:\n",
    "    median_abs_val (float): median absolute value\n",
    "  \"\"\"\n",
    "  median_abs_val = abs(data.median())\n",
    "  return median_abs_val\n",
    "\n",
    "def variance(data: pd.Series):\n",
    "  \"\"\"\n",
    "  Calculate the variance of a group \n",
    "  of data.\n",
    "  Params:\n",
    "    data (pd.Series): contains data\n",
    "  Returns:\n",
    "    variance: variance value\n",
    "  \"\"\"\n",
    "  variance = data.var()\n",
    "  return variance\n",
    "\n",
    "def std_deviation(data: pd.Series):\n",
    "  \"\"\"\n",
    "  Calculate the standard deviation of \n",
    "  a group of data.\n",
    "  Params:\n",
    "    data (pd.Series): contains data\n",
    "  Returns:\n",
    "    std_deviation: standard deviation value\n",
    "  \"\"\"\n",
    "  std_deviation = data.std()\n",
    "  return std_deviation"
   ]
  },
  {
   "cell_type": "code",
   "execution_count": null,
   "metadata": {},
   "outputs": [],
   "source": [
    "FEATURES_HEADER = []\n",
    "\n",
    "FEATURES_HEADER.append(\"Label\")\n",
    "for feature in FEATURES_LIST:\n",
    "    for sensor in EMG_SENSORS:\n",
    "        FEATURES_HEADER.append(f\"{feature}_{sensor}\")\n"
   ]
  },
  {
   "cell_type": "code",
   "execution_count": null,
   "metadata": {},
   "outputs": [],
   "source": [
    "def main(path: str) -> pd.DataFrame:\n",
    "    \"\"\"\n",
    "    This function iterates through the path containing all \n",
    "    emg files and calculate the different features for each\n",
    "    emg sensor.\n",
    "    Params:\n",
    "        path (str): path to the folders containing all emg files.\n",
    "    Returns:\n",
    "        df_features (Dataframe): contains features from all files\n",
    "    \"\"\"\n",
    "    # Define main dataframe to store calculated features\n",
    "    df_features = pd.DataFrame(columns=FEATURES_HEADER)\n",
    "    # Iterate through emg files in path\n",
    "    for file in glob.iglob(os.path.join(path, \"*/*.csv\")):\n",
    "        emg_file = pd.read_csv(file, index_col = 0)\n",
    "        feature_file = {}\n",
    "        # Iterate through each emg sensor\n",
    "        for sensor in EMG_SENSORS:\n",
    "            # Iterate through each feature type\n",
    "            for feature in FEATURES_LIST:\n",
    "                match feature:\n",
    "                    case \"MeanAbsoluteValue\":\n",
    "                        value = mean_abs_value(emg_file[sensor])\n",
    "                    case \"MeanAbsWeightI\":\n",
    "                        value = mean_abs_weightI(emg_file[sensor])\n",
    "                    case \"MeanAbsWeightII\":\n",
    "                        value = mean_abs_weightII(emg_file[sensor])\n",
    "                    case \"MedianAbsValue\":\n",
    "                        value = median_abs_value(emg_file[sensor])\n",
    "                    case \"Variance\":\n",
    "                        value = variance(emg_file[sensor])\n",
    "                    case \"StdDeviation\":\n",
    "                        value = std_deviation(emg_file[sensor])\n",
    "                    case _:\n",
    "                        value = np.nan\n",
    "                        print(\"Feature doesn't exist\")\n",
    "                # Store task label\n",
    "                feature_file[\"Label\"] = MOTOR_TASKS_DIC[file.split(\"\\\\\")[-2]]\n",
    "                # Store calculated feature in dict\n",
    "                feature_file[f\"{feature}_{sensor}\"] = (value)\n",
    "        # Append emg file features in dataframe\n",
    "        df_features = df_features.append(feature_file, ignore_index=True)\n",
    "    return df_features"
   ]
  },
  {
   "cell_type": "code",
   "execution_count": null,
   "metadata": {},
   "outputs": [],
   "source": [
    "df_custom_features = main(MAIN_PATH)"
   ]
  },
  {
   "cell_type": "code",
   "execution_count": null,
   "metadata": {},
   "outputs": [],
   "source": [
    "df_custom_features.to_csv(os.path.join(FEATURES_PATH, \"custom_features.csv\"), index=False)"
   ]
  },
  {
   "cell_type": "markdown",
   "metadata": {},
   "source": [
    "## Rms Features"
   ]
  },
  {
   "cell_type": "code",
   "execution_count": null,
   "metadata": {},
   "outputs": [],
   "source": [
    "# Define initial window size, it can be measured reading an emg file and using len()\n",
    "INITIAL_WINDOW = 40\n",
    "\n",
    "# Define the size of rms windows.\n",
    "# Note: Initial window size should be divisible per this value\n",
    "WINDOW_RMS = 10\n",
    "\n",
    "assert INITIAL_WINDOW%WINDOW_RMS == 0, f\"INITIAL_WINDOW should be divisible by WINDOW_RMS\"\n",
    "\n",
    "features_column = ['Label']\n",
    "for sensor in EMG_SENSORS:\n",
    "    for x in range(WINDOW_RMS,INITIAL_WINDOW+WINDOW_RMS, WINDOW_RMS):\n",
    "        features_column.append('RMS' + str(x) + '_' + sensor)\n",
    "\n",
    "def define_feature_df(path: str) -> pd.DataFrame:\n",
    "    \"\"\"\n",
    "    Creates a dataframe to store the calculated features.\n",
    "    Params: \n",
    "        path (str): path to the folders containing all emg files.\n",
    "    Returns:\n",
    "        df (Dataframe): dataframe full of nans to store features later.\n",
    "    \"\"\"\n",
    "    num_files = 0\n",
    "    for folder in os.listdir(path):\n",
    "        path_folder = os.path.join(path, folder)\n",
    "        csv_files = [f for f in os.listdir(path_folder) if re.search(r'.*\\.(csv)$', f)]\n",
    "        num_files += len(csv_files)\n",
    "    df = pd.DataFrame(np.nan, index = list(range(0,num_files)), columns= features_column)\n",
    "    return df\n",
    "\n",
    "def get_rms_features(path):\n",
    "    \"\"\"\n",
    "    This function iterates through the path containing all \n",
    "    emg files and calculate rms feature per window for each\n",
    "    emg sensor.\n",
    "    Params:\n",
    "        path (str): path to the folders containing all emg files.\n",
    "    Returns:\n",
    "        df_rms_features (Dataframe): contains features from all files\n",
    "    \"\"\"\n",
    "    num_row = 0\n",
    "    df_rms_features = define_feature_df(MAIN_PATH)\n",
    "    for file in glob.iglob(os.path.join(path, \"*/*.csv\")):\n",
    "        emg_file = pd.read_csv(file, index_col = 0)\n",
    "        print(len(emg_file))                   \n",
    "        for idx in list(range(0,int(emg_file.shape[0]/WINDOW_RMS))):\n",
    "            idx = idx*WINDOW_RMS\n",
    "            for column in EMG_SENSORS:\n",
    "                column_tag = 'RMS' + str(idx+WINDOW_RMS) + '_' + column\n",
    "                df_rms_features.at[num_row,column_tag] = np.sqrt(np.mean(emg_file[idx:idx+WINDOW_RMS][column]**2))\n",
    "        df_rms_features.at[num_row, 'Label'] = MOTOR_TASKS_DIC[file.split(\"\\\\\")[-2]]\n",
    "        num_row += 1\n",
    "    return df_rms_features"
   ]
  },
  {
   "cell_type": "code",
   "execution_count": null,
   "metadata": {},
   "outputs": [],
   "source": [
    "df_rms_features = get_rms_features(MAIN_PATH)"
   ]
  },
  {
   "cell_type": "code",
   "execution_count": null,
   "metadata": {},
   "outputs": [],
   "source": [
    "df_rms_features.to_csv(os.path.join(FEATURES_PATH, \"rms_features.csv\"), index=False)"
   ]
  }
 ],
 "metadata": {
  "kernelspec": {
   "display_name": "Python 3.10.4 64-bit",
   "language": "python",
   "name": "python3"
  },
  "language_info": {
   "codemirror_mode": {
    "name": "ipython",
    "version": 3
   },
   "file_extension": ".py",
   "mimetype": "text/x-python",
   "name": "python",
   "nbconvert_exporter": "python",
   "pygments_lexer": "ipython3",
   "version": "3.10.4"
  },
  "orig_nbformat": 4,
  "vscode": {
   "interpreter": {
    "hash": "369f2c481f4da34e4445cda3fffd2e751bd1c4d706f27375911949ba6bb62e1c"
   }
  }
 },
 "nbformat": 4,
 "nbformat_minor": 2
}
